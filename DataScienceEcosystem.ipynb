{
 "cells": [
  {
   "cell_type": "markdown",
   "id": "d75a919e-2ad9-4121-ba53-b2dfb6a8c42b",
   "metadata": {},
   "source": [
    "## DataScienceEcosystem.ipynb"
   ]
  },
  {
   "cell_type": "markdown",
   "id": "0595fb64-1c5d-4924-89af-be432408694e",
   "metadata": {},
   "source": [
    "In this notebook, Data Science Tools and Ecosystem are summarized."
   ]
  },
  {
   "cell_type": "markdown",
   "id": "623d60f8-6741-4267-bbbf-0f6d0c9f5e89",
   "metadata": {},
   "source": [
    "**Objectives**:\n",
    "* List popular languages for Data Science\n",
    "* List popular libraries for Data Science\n",
    "* Creating Tables in Jupyter Notebook\n",
    "* Evaluating Arithmetic Expressions in Jupyter Notebook Using Python"
   ]
  },
  {
   "cell_type": "markdown",
   "id": "d7012a98-be65-4568-89e8-be7efc132bc5",
   "metadata": {},
   "source": [
    "Some of the popular languages that Data Scientists use are:\n",
    "1. Pytohn\n",
    "2. R\n",
    "3. SQL"
   ]
  },
  {
   "cell_type": "markdown",
   "id": "47cefd1f-1ddb-40be-986b-1825cbeb9248",
   "metadata": {},
   "source": [
    "Some of the commonly used libraries used by Data Scientists include:\n",
    "* Matplotlib\n",
    "* Numby\n",
    "* Pandas"
   ]
  },
  {
   "cell_type": "markdown",
   "id": "2d6dd4e3-44b2-48f3-9fd3-a426657bf75d",
   "metadata": {},
   "source": [
    "| Data Science Tools |\n",
    "|---|\n",
    "| Jupyter Notebook | \n",
    "| RStudio | \n",
    "| Google Colab |"
   ]
  },
  {
   "cell_type": "markdown",
   "id": "7dc2b36a-775a-44dd-b9b8-2840e196b0be",
   "metadata": {},
   "source": [
    "### Below are a few examples of evaluating arithmetic expressions in Python"
   ]
  },
  {
   "cell_type": "code",
   "execution_count": 44,
   "id": "741fcc3a-92d5-449e-8591-8483050b09ba",
   "metadata": {},
   "outputs": [
    {
     "data": {
      "text/plain": [
       "17"
      ]
     },
     "execution_count": 44,
     "metadata": {},
     "output_type": "execute_result"
    }
   ],
   "source": [
    "# This a simple arithmetic expression to mutiply then add integers\n",
    "(3*4)+5"
   ]
  },
  {
   "cell_type": "code",
   "execution_count": 56,
   "id": "178fd331-2fae-4652-aa56-47c2143eeaff",
   "metadata": {},
   "outputs": [
    {
     "name": "stdout",
     "output_type": "stream",
     "text": [
      "3.3333333333333335\n"
     ]
    }
   ],
   "source": [
    "# This will convert 200 minutes to hours by diving by 60\n",
    "\n",
    "minutes = 200\n",
    "Hours = minutes / 60\n",
    "print(Hours)"
   ]
  },
  {
   "cell_type": "markdown",
   "id": "46f6b5e3-29fa-478c-9e59-28043e4eb348",
   "metadata": {},
   "source": [
    "## Author\n",
    "Faiz K Alharthi"
   ]
  }
 ],
 "metadata": {
  "kernelspec": {
   "display_name": "Python 3 (ipykernel)",
   "language": "python",
   "name": "python3"
  },
  "language_info": {
   "codemirror_mode": {
    "name": "ipython",
    "version": 3
   },
   "file_extension": ".py",
   "mimetype": "text/x-python",
   "name": "python",
   "nbconvert_exporter": "python",
   "pygments_lexer": "ipython3",
   "version": "3.12.4"
  }
 },
 "nbformat": 4,
 "nbformat_minor": 5
}
